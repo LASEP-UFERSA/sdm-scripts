{
 "cells": [
  {
   "cell_type": "markdown",
   "id": "f94ac7e0-311c-4947-b552-04fbf540fa54",
   "metadata": {},
   "source": [
    "# **Title**\n",
    "\n",
    "Author: Josimar Gabriel Rodrigues de Araújo asasdasd\n"
   ]
  },
  {
   "cell_type": "markdown",
   "id": "ec7b7a49-8e68-41c4-898c-f8d6887ea06b",
   "metadata": {},
   "source": [
    "## 1. Instalar pacotes\n",
    "No Windows\n",
    "aasdãsd\n",
    "as,a,sd"
   ]
  },
  {
   "cell_type": "code",
   "execution_count": null,
   "id": "81e36c62-5645-4514-a2f9-0881a52b1801",
   "metadata": {
    "collapsed": true,
    "jupyter": {
     "outputs_hidden": true,
     "source_hidden": true
    },
    "scrolled": true
   },
   "outputs": [],
   "source": [
    "# install.packages(\n",
    "#     c(\"ggspatial\", \n",
    "#       \"raster\", \n",
    "#       \"sdm\", \n",
    "#       \"tidyverse\", \n",
    "#       \"spThin\",\n",
    "#       \"geobr\", \n",
    "#       \"geojson\"\n",
    "#      ),\n",
    "#     dependencies = TRUE, \n",
    "#     clean = TRUE\n",
    "# )"
   ]
  },
  {
   "cell_type": "markdown",
   "id": "2926b71f-ca03-4321-8dc4-f905062e91e2",
   "metadata": {},
   "source": [
    "## 2. Carregar bibliotecas \n",
    "as,çal,sdx"
   ]
  },
  {
   "cell_type": "code",
   "execution_count": 1,
   "id": "3d045559-7436-4843-95dc-b1573462fe71",
   "metadata": {
    "collapsed": true,
    "jupyter": {
     "outputs_hidden": true,
     "source_hidden": true
    },
    "scrolled": true
   },
   "outputs": [
    {
     "name": "stderr",
     "output_type": "stream",
     "text": [
      "Loading required package: sp\n",
      "\n",
      "Loading required package: terra\n",
      "\n",
      "terra 1.7.78\n",
      "\n",
      "WARNING: different compile-time and run-time versions of GEOS\n",
      "\n",
      "Compiled with:3.12.1-CAPI-1.18.1\n",
      "\n",
      " Running with:3.12.2-CAPI-1.18.2\n",
      "\n",
      "\n",
      "You should reinstall package 'terra'\n",
      "\n",
      "\n",
      "sdm 1.2-40 (2024-05-02)\n",
      "\n",
      "── \u001b[1mAttaching core tidyverse packages\u001b[22m ──────────────────────── tidyverse 2.0.0 ──\n",
      "\u001b[32m✔\u001b[39m \u001b[34mdplyr    \u001b[39m 1.1.4     \u001b[32m✔\u001b[39m \u001b[34mreadr    \u001b[39m 2.1.5\n",
      "\u001b[32m✔\u001b[39m \u001b[34mforcats  \u001b[39m 1.0.0     \u001b[32m✔\u001b[39m \u001b[34mstringr  \u001b[39m 1.5.1\n",
      "\u001b[32m✔\u001b[39m \u001b[34mggplot2  \u001b[39m 3.5.1     \u001b[32m✔\u001b[39m \u001b[34mtibble   \u001b[39m 3.2.1\n",
      "\u001b[32m✔\u001b[39m \u001b[34mlubridate\u001b[39m 1.9.3     \u001b[32m✔\u001b[39m \u001b[34mtidyr    \u001b[39m 1.3.1\n",
      "\u001b[32m✔\u001b[39m \u001b[34mpurrr    \u001b[39m 1.0.2     \n",
      "── \u001b[1mConflicts\u001b[22m ────────────────────────────────────────── tidyverse_conflicts() ──\n",
      "\u001b[31m✖\u001b[39m \u001b[34mtidyr\u001b[39m::\u001b[32mextract()\u001b[39m masks \u001b[34mterra\u001b[39m::extract(), \u001b[34mraster\u001b[39m::extract()\n",
      "\u001b[31m✖\u001b[39m \u001b[34mdplyr\u001b[39m::\u001b[32mfilter()\u001b[39m  masks \u001b[34mstats\u001b[39m::filter()\n",
      "\u001b[31m✖\u001b[39m \u001b[34mdplyr\u001b[39m::\u001b[32mlag()\u001b[39m     masks \u001b[34mstats\u001b[39m::lag()\n",
      "\u001b[31m✖\u001b[39m \u001b[34mdplyr\u001b[39m::\u001b[32mselect()\u001b[39m  masks \u001b[34mraster\u001b[39m::select()\n",
      "\u001b[36mℹ\u001b[39m Use the conflicted package (\u001b[3m\u001b[34m<http://conflicted.r-lib.org/>\u001b[39m\u001b[23m) to force all conflicts to become errors\n",
      "Loading required package: spam\n",
      "\n",
      "Spam version 2.10-0 (2023-10-23) is loaded.\n",
      "Type 'help( Spam)' or 'demo( spam)' for a short introduction \n",
      "and overview of this package.\n",
      "Help for individual functions is also obtained by adding the\n",
      "suffix '.spam' to the function name, e.g. 'help( chol.spam)'.\n",
      "\n",
      "\n",
      "Attaching package: ‘spam’\n",
      "\n",
      "\n",
      "The following objects are masked from ‘package:base’:\n",
      "\n",
      "    backsolve, forwardsolve\n",
      "\n",
      "\n",
      "Loading required package: grid\n",
      "\n",
      "\n",
      "Attaching package: ‘grid’\n",
      "\n",
      "\n",
      "The following object is masked from ‘package:terra’:\n",
      "\n",
      "    depth\n",
      "\n",
      "\n",
      "Loading required package: fields\n",
      "\n",
      "Loading required package: viridisLite\n",
      "\n",
      "\n",
      "Try help(fields) to get started.\n",
      "\n",
      "\n",
      "Attaching package: ‘fields’\n",
      "\n",
      "\n",
      "The following object is masked from ‘package:terra’:\n",
      "\n",
      "    describe\n",
      "\n",
      "\n",
      "Loading required package: knitr\n",
      "\n",
      "\n",
      "Attaching package: ‘knitr’\n",
      "\n",
      "\n",
      "The following object is masked from ‘package:terra’:\n",
      "\n",
      "    spin\n",
      "\n",
      "\n",
      "\n",
      "Attaching package: ‘scales’\n",
      "\n",
      "\n",
      "The following object is masked from ‘package:purrr’:\n",
      "\n",
      "    discard\n",
      "\n",
      "\n",
      "The following object is masked from ‘package:readr’:\n",
      "\n",
      "    col_factor\n",
      "\n",
      "\n",
      "The following object is masked from ‘package:terra’:\n",
      "\n",
      "    rescale\n",
      "\n",
      "\n",
      "Linking to GEOS 3.12.2, GDAL 3.8.5, PROJ 9.3.1; sf_use_s2() is TRUE\n",
      "\n",
      "WARNING: different compile-time and runtime versions for GEOS found:\n",
      "\n",
      "Linked against: 3.12.2-CAPI-1.18.2 compiled against: 3.12.1-CAPI-1.18.1\n",
      "\n",
      "It is probably a good idea to reinstall sf (and maybe lwgeom too)\n",
      "\n",
      "\n",
      "Attaching package: ‘geojson’\n",
      "\n",
      "\n",
      "The following object is masked from ‘package:graphics’:\n",
      "\n",
      "    polygon\n",
      "\n",
      "\n"
     ]
    }
   ],
   "source": [
    "library(ggspatial)\n",
    "library(raster)\n",
    "library(sdm)\n",
    "library(tidyverse)\n",
    "library(spThin)\n",
    "library(scales)\n",
    "library(sf)\n",
    "library(geojson)"
   ]
  },
  {
   "cell_type": "markdown",
   "id": "31ccf96e-86bd-49e6-ab3e-76eb747ce4c6",
   "metadata": {},
   "source": [
    "## 3. Configuração\n",
    "\n",
    "adadadsa"
   ]
  },
  {
   "cell_type": "code",
   "execution_count": 68,
   "id": "d160c9f8-9e89-4e9f-9617-476447d119cc",
   "metadata": {
    "collapsed": true,
    "jupyter": {
     "outputs_hidden": true,
     "source_hidden": true
    }
   },
   "outputs": [],
   "source": [
    "## Configuração do Script -- \n",
    "# define as variáveis usadas posteriormente\n",
    "\n",
    "# Selecionar Espécies ----\n",
    "especies <- list(\n",
    "    sp1 = c(\"Borreria\", \"apodiensis\"),\n",
    "    sp2 = c(\"Pectis\", \"loiolae\"),\n",
    "    sp3 = c(\"Ipomoea\", \"apodiensis\")\n",
    "    # sp4 = Scientifc name\n",
    "    # ...\n",
    ")\n",
    "\n",
    "\n",
    "codigo_estado = \"all\" # \"all\" para todos os estados, \"RN\" para Rio Grande do Norte."
   ]
  },
  {
   "cell_type": "code",
   "execution_count": 12,
   "id": "2fa66786-1de6-4448-92fb-1326320fc2e4",
   "metadata": {
    "collapsed": true,
    "jupyter": {
     "outputs_hidden": true,
     "source_hidden": true
    }
   },
   "outputs": [],
   "source": [
    "# Cria a estrutura de pastas ----\n",
    "diretorios <- c(\n",
    "    \"dados\",\n",
    "    \"dados/ocorrencia\",\n",
    "    \"dados/worldclim\",\n",
    "    \"modelos\",\n",
    "    \"projecoes\",\n",
    "    \"shapefiles\"\n",
    ")\n",
    "\n",
    "for (diretorio in diretorios) {\n",
    "    path <- paste0(getwd(), \"/\", diretorio)\n",
    "    \n",
    "   if (!dir.exists(path)){\n",
    "            dir.create(\n",
    "            path = path,\n",
    "            recursive = TRUE\n",
    "        )   \n",
    "   }\n",
    "}"
   ]
  },
  {
   "cell_type": "markdown",
   "id": "31fa6004-749b-4e5e-899c-d5ad9877e038",
   "metadata": {},
   "source": [
    "## 4. Baixar ou carregar shapefiles.\n",
    "No exemplo abaixo, os shapefiles dos Estados do Brasil são baixados e filtrados apenas para a região Nordeste.\n",
    "\n",
    "Ou, se já tiver os arquivos, cole-os na pasta shapefiles e poderá carregá-los na célula seguinte."
   ]
  },
  {
   "cell_type": "code",
   "execution_count": 13,
   "id": "310dd4f8-da2d-47e8-b35a-77a0a8c12bda",
   "metadata": {
    "collapsed": true,
    "jupyter": {
     "outputs_hidden": true,
     "source_hidden": true
    },
    "scrolled": true
   },
   "outputs": [
    {
     "name": "stderr",
     "output_type": "stream",
     "text": [
      "Using year/date 2020\n",
      "\n"
     ]
    },
    {
     "name": "stdout",
     "output_type": "stream",
     "text": [
      "  |======================================================================| 100%\n"
     ]
    }
   ],
   "source": [
    "#Baixar shapefile\n",
    "shape <- geobr::read_state(\n",
    "    code_state = codigo_estado, \n",
    "    year = 2020, \n",
    "    simplified = FALSE,\n",
    ")\n",
    "\n",
    "# Filtrar a tabela do shapefile por região estado, cidade, etc.  \n",
    "shape <- shape %>% filter(name_region == \"Nordeste\")"
   ]
  },
  {
   "cell_type": "code",
   "execution_count": null,
   "id": "28fd57af-4023-45aa-a9ab-9ccc0b3e0e71",
   "metadata": {
    "collapsed": true,
    "jupyter": {
     "outputs_hidden": true,
     "source_hidden": true
    },
    "scrolled": true
   },
   "outputs": [],
   "source": [
    "# Salvar o arquivo shapefile no disco\n",
    "write_sf(shape, paste0(getwd(), \"/shapefiles/shape.shp\"))"
   ]
  },
  {
   "cell_type": "code",
   "execution_count": null,
   "id": "41831373-9d02-4b31-9370-ec82637d1a8f",
   "metadata": {
    "collapsed": true,
    "jupyter": {
     "outputs_hidden": true,
     "source_hidden": true
    }
   },
   "outputs": [],
   "source": [
    "# Carregar shapefile\n",
    "shape <- read_sf(\"shapefiles//shape.shp\")"
   ]
  },
  {
   "cell_type": "code",
   "execution_count": 14,
   "id": "e6a0558c-2704-4575-a3e1-8c1bbdf2fa4e",
   "metadata": {
    "collapsed": true,
    "jupyter": {
     "outputs_hidden": true,
     "source_hidden": true
    }
   },
   "outputs": [
    {
     "data": {
      "image/png": "[encoded data removed]",
      "text/plain": [
       "Plot with title “name_region”"
      ]
     },
     "metadata": {
      "image/png": {
       "height": 420,
       "width": 420
      }
     },
     "output_type": "display_data"
    }
   ],
   "source": [
    "# Visualizar shapefile\n",
    "plot(shape[5])"
   ]
  },
  {
   "cell_type": "markdown",
   "id": "062ddcd6-9c73-4ba4-ad25-2e1728b9ef77",
   "metadata": {},
   "source": [
    "## 5. Baixar e/ou carregar dados de ocorrência"
   ]
  },
  {
   "cell_type": "markdown",
   "id": "90fbf59a-e2df-4012-abb5-eb54d3211191",
   "metadata": {},
   "source": [
    "#### GBIF"
   ]
  },
  {
   "cell_type": "code",
   "execution_count": 74,
   "id": "5895f7fd-b84f-4087-b34b-92373fd2de94",
   "metadata": {
    "collapsed": true,
    "jupyter": {
     "outputs_hidden": true,
     "source_hidden": true
    }
   },
   "outputs": [
    {
     "name": "stderr",
     "output_type": "stream",
     "text": [
      "22 records found\n",
      "\n",
      "0-\n",
      "22\n",
      "\n",
      "22 records downloaded\n",
      "\n",
      "5 records found\n",
      "\n",
      "0-\n",
      "5\n",
      "\n",
      "5 records downloaded\n",
      "\n",
      "no records found\n",
      "\n"
     ]
    }
   ],
   "source": [
    "ocorrencias <- data.frame()\n",
    "\n",
    "for (sp in especies) {\n",
    "    ocorrencias <- bind_rows(\n",
    "        ocorrencias,\n",
    "        geodata::sp_occurrence(\n",
    "            sp[1],\n",
    "            sp[2],\n",
    "            download=TRUE\n",
    "        )\n",
    "    )\n",
    "}"
   ]
  },
  {
   "cell_type": "code",
   "execution_count": 75,
   "id": "fe0219e1-53c1-47dc-8c34-a3c9974d0bb2",
   "metadata": {
    "collapsed": true,
    "jupyter": {
     "outputs_hidden": true,
     "source_hidden": true
    }
   },
   "outputs": [
    {
     "data": {
      "text/html": [
       "<table class=\"dataframe\">\n",
       "<caption>A data.frame: 6 × 3</caption>\n",
       "<thead>\n",
       "\t<tr><th></th><th scope=col>species</th><th scope=col>lon</th><th scope=col>lat</th></tr>\n",
       "\t<tr><th></th><th scope=col>&lt;chr&gt;</th><th scope=col>&lt;dbl&gt;</th><th scope=col>&lt;dbl&gt;</th></tr>\n",
       "</thead>\n",
       "<tbody>\n",
       "\t<tr><th scope=row>1</th><td>Borreria apodiensis</td><td>-39.69222</td><td>-4.734444</td></tr>\n",
       "\t<tr><th scope=row>2</th><td>Borreria apodiensis</td><td>-37.83417</td><td>-5.590000</td></tr>\n",
       "\t<tr><th scope=row>3</th><td>Borreria apodiensis</td><td>-37.83417</td><td>-5.590000</td></tr>\n",
       "\t<tr><th scope=row>4</th><td>Borreria apodiensis</td><td>-37.83417</td><td>-5.590000</td></tr>\n",
       "\t<tr><th scope=row>5</th><td>Borreria apodiensis</td><td>-37.83417</td><td>-5.590000</td></tr>\n",
       "\t<tr><th scope=row>6</th><td>Borreria apodiensis</td><td>-37.67972</td><td>-5.574722</td></tr>\n",
       "</tbody>\n",
       "</table>\n"
      ],
      "text/latex": [
       "A data.frame: 6 × 3\n",
       "\\begin{tabular}{r|lll}\n",
       "  & species & lon & lat\\\\\n",
       "  & <chr> & <dbl> & <dbl>\\\\\n",
       "\\hline\n",
       "\t1 & Borreria apodiensis & -39.69222 & -4.734444\\\\\n",
       "\t2 & Borreria apodiensis & -37.83417 & -5.590000\\\\\n",
       "\t3 & Borreria apodiensis & -37.83417 & -5.590000\\\\\n",
       "\t4 & Borreria apodiensis & -37.83417 & -5.590000\\\\\n",
       "\t5 & Borreria apodiensis & -37.83417 & -5.590000\\\\\n",
       "\t6 & Borreria apodiensis & -37.67972 & -5.574722\\\\\n",
       "\\end{tabular}\n"
      ],
      "text/markdown": [
       "\n",
       "A data.frame: 6 × 3\n",
       "\n",
       "| <!--/--> | species &lt;chr&gt; | lon &lt;dbl&gt; | lat &lt;dbl&gt; |\n",
       "|---|---|---|---|\n",
       "| 1 | Borreria apodiensis | -39.69222 | -4.734444 |\n",
       "| 2 | Borreria apodiensis | -37.83417 | -5.590000 |\n",
       "| 3 | Borreria apodiensis | -37.83417 | -5.590000 |\n",
       "| 4 | Borreria apodiensis | -37.83417 | -5.590000 |\n",
       "| 5 | Borreria apodiensis | -37.83417 | -5.590000 |\n",
       "| 6 | Borreria apodiensis | -37.67972 | -5.574722 |\n",
       "\n"
      ],
      "text/plain": [
       "  species             lon       lat      \n",
       "1 Borreria apodiensis -39.69222 -4.734444\n",
       "2 Borreria apodiensis -37.83417 -5.590000\n",
       "3 Borreria apodiensis -37.83417 -5.590000\n",
       "4 Borreria apodiensis -37.83417 -5.590000\n",
       "5 Borreria apodiensis -37.83417 -5.590000\n",
       "6 Borreria apodiensis -37.67972 -5.574722"
      ]
     },
     "metadata": {},
     "output_type": "display_data"
    }
   ],
   "source": [
    "ocorrencias <- ocorrencias |> select(species, lon, lat)\n",
    "head(ocorrencias)"
   ]
  },
  {
   "cell_type": "markdown",
   "id": "bd09b786-f1f2-49d3-87bc-bd8f7565512f",
   "metadata": {},
   "source": [
    "#### Outras bases: SpeciesLink, dados de coleções."
   ]
  },
  {
   "cell_type": "code",
   "execution_count": null,
   "id": "b9ebf90a-9d3e-45c6-a5b8-e2f21d26c76f",
   "metadata": {
    "collapsed": true,
    "jupyter": {
     "outputs_hidden": true
    }
   },
   "outputs": [],
   "source": []
  },
  {
   "cell_type": "code",
   "execution_count": null,
   "id": "9c2cc9a5-72a6-4900-8c68-1f7e195b3f4a",
   "metadata": {
    "collapsed": true,
    "jupyter": {
     "outputs_hidden": true
    }
   },
   "outputs": [],
   "source": []
  }
 ],
 "metadata": {
  "kernelspec": {
   "display_name": "R",
   "language": "R",
   "name": "ir"
  },
  "language_info": {
   "codemirror_mode": "r",
   "file_extension": ".r",
   "mimetype": "text/x-r-source",
   "name": "R",
   "pygments_lexer": "r",
   "version": "4.4.0"
  }
 },
 "nbformat": 4,
 "nbformat_minor": 5
}
